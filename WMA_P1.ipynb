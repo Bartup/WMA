{
  "cells": [
    {
      "cell_type": "markdown",
      "metadata": {
        "id": "view-in-github",
        "colab_type": "text"
      },
      "source": [
        "<a href=\"https://colab.research.google.com/github/Bartup/WMA/blob/main/WMA_P1.ipynb\" target=\"_parent\"><img src=\"https://colab.research.google.com/assets/colab-badge.svg\" alt=\"Open In Colab\"/></a>"
      ]
    },
    {
      "cell_type": "code",
      "execution_count": null,
      "metadata": {
        "id": "axqjx8_rKNXt"
      },
      "outputs": [],
      "source": [
        "import cv2 as cv\n",
        "import numpy as np\n",
        "from google.colab.patches import cv2_imshow"
      ]
    },
    {
      "cell_type": "code",
      "execution_count": null,
      "metadata": {
        "id": "oi-uFAp1Kd3o"
      },
      "outputs": [],
      "source": [
        "img = cv.imread(\"movingball.mp4\");"
      ]
    },
    {
      "cell_type": "code",
      "execution_count": null,
      "metadata": {
        "colab": {
          "base_uri": "https://localhost:8080/"
        },
        "id": "IAA_g6f9de9p",
        "outputId": "b86e148d-46dc-4f12-f2c6-3e75cb498ef7"
      },
      "outputs": [
        {
          "output_type": "stream",
          "name": "stdout",
          "text": [
            "Exiting\n"
          ]
        }
      ],
      "source": [
        "lo_1 = np.array([0, 100, 100])\n",
        "up_1 = np.array([15, 255, 255])\n",
        "\n",
        "lo_2 = np.array([170,100,100])\n",
        "up_2 = np.array([179,255,255])\n",
        "\n",
        "cap = cv.VideoCapture('movingball.mp4')\n",
        "\n",
        "res=(int(cap.get(cv.CAP_PROP_FRAME_WIDTH)), int(cap.get(cv.CAP_PROP_FRAME_HEIGHT)))\n",
        "    \n",
        "fourcc = cv.VideoWriter_fourcc(*'MP4V')\n",
        "out = cv.VideoWriter('output.mp4', fourcc, 20.0, res)\n",
        "\n",
        "while cap.isOpened():\n",
        "    ret, frame = cap.read()\n",
        "    if not ret:\n",
        "        print(\"Exiting\")\n",
        "        break\n",
        "\n",
        "\n",
        "    HSV = cv.cvtColor(frame,cv.COLOR_BGR2HSV)\n",
        "  \n",
        "    lower_mask = cv.inRange(HSV, lo_1, up_1)\n",
        "    upper_mask = cv.inRange(HSV, lo_2, up_2)\n",
        "\n",
        "    full_mask = lower_mask + upper_mask;\n",
        "\n",
        "    kernel = np.ones((5,5),np.uint8)\n",
        "    opening = cv.morphologyEx(full_mask, cv.MORPH_OPEN, kernel) \n",
        "    full_mask = opening\n",
        "\n",
        "    kernel2 = np.ones((20,20),np.uint8)\n",
        "    closing = cv.morphologyEx(full_mask, cv.MORPH_CLOSE, kernel2)  \n",
        "    full_mask=closing\n",
        "\n",
        "    ret,thresh = cv.threshold(full_mask,127,255,0)\n",
        "    contours,hierarchy = cv.findContours(thresh, 1, 2)\n",
        "    cnt = contours[0]\n",
        "    M = cv.moments(cnt)\n",
        "  \n",
        "    cx = int(M['m10']/M['m00'])\n",
        "    cy = int(M['m01']/M['m00'])\n",
        "\n",
        "    cv.circle(frame, (cx, cy), 7, (0, 255, 0), -1)  \n",
        "\n",
        "    out.write(frame)\n",
        "    \n",
        "cap.release()\n",
        "out.release()\n",
        "cv.destroyAllWindows()"
      ]
    },
    {
      "cell_type": "code",
      "execution_count": null,
      "metadata": {
        "id": "IoKtf87iVVRM"
      },
      "outputs": [],
      "source": []
    }
  ],
  "metadata": {
    "colab": {
      "provenance": [],
      "include_colab_link": true
    },
    "kernelspec": {
      "display_name": "Python 3 (ipykernel)",
      "language": "python",
      "name": "python3"
    },
    "language_info": {
      "codemirror_mode": {
        "name": "ipython",
        "version": 3
      },
      "file_extension": ".py",
      "mimetype": "text/x-python",
      "name": "python",
      "nbconvert_exporter": "python",
      "pygments_lexer": "ipython3",
      "version": "3.10.9"
    }
  },
  "nbformat": 4,
  "nbformat_minor": 0
}